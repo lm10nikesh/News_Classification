{
  "cells": [
    {
      "cell_type": "code",
      "execution_count": null,
      "metadata": {
        "colab": {
          "base_uri": "https://localhost:8080/"
        },
        "id": "qvuFMfBs53kk",
        "outputId": "8e30f37a-19e2-4fa5-ff5d-859333d8f26a"
      },
      "outputs": [
        {
          "output_type": "stream",
          "name": "stderr",
          "text": [
            "[nltk_data] Downloading package stopwords to /root/nltk_data...\n",
            "[nltk_data]   Unzipping corpora/stopwords.zip.\n"
          ]
        }
      ],
      "source": [
        "import numpy as np\n",
        "import pandas as pd\n",
        "import re,string\n",
        "import matplotlib.pyplot as plt\n",
        "import nltk\n",
        "from nltk.corpus import stopwords\n",
        "from nltk.stem import PorterStemmer\n",
        "from sklearn.feature_extraction.text import TfidfVectorizer\n",
        "from sklearn.pipeline import Pipeline\n",
        "from sklearn.metrics import classification_report, confusion_matrix\n",
        "from sklearn.model_selection import train_test_split\n",
        "from sklearn.feature_selection import SelectKBest, chi2\n",
        "import pickle\n",
        "nltk.download('stopwords')\n",
        "%matplotlib inline"
      ]
    },
    {
      "cell_type": "markdown",
      "metadata": {
        "id": "WSmqpMT3onW3"
      },
      "source": []
    },
    {
      "cell_type": "code",
      "execution_count": null,
      "metadata": {
        "colab": {
          "base_uri": "https://localhost:8080/",
          "height": 423
        },
        "id": "BAtLnUFL6emp",
        "outputId": "8244cd08-d2db-4d09-fc89-3986087bb2f0"
      },
      "outputs": [
        {
          "output_type": "execute_result",
          "data": {
            "text/plain": [
              "           category                                               text\n",
              "541   entertainment  mumbai bombs movie postponed the release of a ...\n",
              "422           sport  scots suffer another injury blow scotland s ba...\n",
              "157        business  gm  ford cut output as sales fall us car firms...\n",
              "1543       politics  best person  for top legal job the  best perso...\n",
              "608        politics  probe launched on ken nazi jibe an investigati...\n",
              "...             ...                                                ...\n",
              "1562  entertainment  manics in charge of bbc 6 music the manic stre...\n",
              "18         business  japanese banking battle at an end japan s sumi...\n",
              "1371       politics  concerns at school diploma plan final appeals ...\n",
              "164        politics  ukip candidate suspended eurosceptic party uki...\n",
              "400           sport  double injury blow strikes wales wales centre ...\n",
              "\n",
              "[2225 rows x 2 columns]"
            ],
            "text/html": [
              "\n",
              "  <div id=\"df-40aa9fc7-2c27-41da-82fd-dac048744eaa\" class=\"colab-df-container\">\n",
              "    <div>\n",
              "<style scoped>\n",
              "    .dataframe tbody tr th:only-of-type {\n",
              "        vertical-align: middle;\n",
              "    }\n",
              "\n",
              "    .dataframe tbody tr th {\n",
              "        vertical-align: top;\n",
              "    }\n",
              "\n",
              "    .dataframe thead th {\n",
              "        text-align: right;\n",
              "    }\n",
              "</style>\n",
              "<table border=\"1\" class=\"dataframe\">\n",
              "  <thead>\n",
              "    <tr style=\"text-align: right;\">\n",
              "      <th></th>\n",
              "      <th>category</th>\n",
              "      <th>text</th>\n",
              "    </tr>\n",
              "  </thead>\n",
              "  <tbody>\n",
              "    <tr>\n",
              "      <th>541</th>\n",
              "      <td>entertainment</td>\n",
              "      <td>mumbai bombs movie postponed the release of a ...</td>\n",
              "    </tr>\n",
              "    <tr>\n",
              "      <th>422</th>\n",
              "      <td>sport</td>\n",
              "      <td>scots suffer another injury blow scotland s ba...</td>\n",
              "    </tr>\n",
              "    <tr>\n",
              "      <th>157</th>\n",
              "      <td>business</td>\n",
              "      <td>gm  ford cut output as sales fall us car firms...</td>\n",
              "    </tr>\n",
              "    <tr>\n",
              "      <th>1543</th>\n",
              "      <td>politics</td>\n",
              "      <td>best person  for top legal job the  best perso...</td>\n",
              "    </tr>\n",
              "    <tr>\n",
              "      <th>608</th>\n",
              "      <td>politics</td>\n",
              "      <td>probe launched on ken nazi jibe an investigati...</td>\n",
              "    </tr>\n",
              "    <tr>\n",
              "      <th>...</th>\n",
              "      <td>...</td>\n",
              "      <td>...</td>\n",
              "    </tr>\n",
              "    <tr>\n",
              "      <th>1562</th>\n",
              "      <td>entertainment</td>\n",
              "      <td>manics in charge of bbc 6 music the manic stre...</td>\n",
              "    </tr>\n",
              "    <tr>\n",
              "      <th>18</th>\n",
              "      <td>business</td>\n",
              "      <td>japanese banking battle at an end japan s sumi...</td>\n",
              "    </tr>\n",
              "    <tr>\n",
              "      <th>1371</th>\n",
              "      <td>politics</td>\n",
              "      <td>concerns at school diploma plan final appeals ...</td>\n",
              "    </tr>\n",
              "    <tr>\n",
              "      <th>164</th>\n",
              "      <td>politics</td>\n",
              "      <td>ukip candidate suspended eurosceptic party uki...</td>\n",
              "    </tr>\n",
              "    <tr>\n",
              "      <th>400</th>\n",
              "      <td>sport</td>\n",
              "      <td>double injury blow strikes wales wales centre ...</td>\n",
              "    </tr>\n",
              "  </tbody>\n",
              "</table>\n",
              "<p>2225 rows × 2 columns</p>\n",
              "</div>\n",
              "    <div class=\"colab-df-buttons\">\n",
              "\n",
              "  <div class=\"colab-df-container\">\n",
              "    <button class=\"colab-df-convert\" onclick=\"convertToInteractive('df-40aa9fc7-2c27-41da-82fd-dac048744eaa')\"\n",
              "            title=\"Convert this dataframe to an interactive table.\"\n",
              "            style=\"display:none;\">\n",
              "\n",
              "  <svg xmlns=\"http://www.w3.org/2000/svg\" height=\"24px\" viewBox=\"0 -960 960 960\">\n",
              "    <path d=\"M120-120v-720h720v720H120Zm60-500h600v-160H180v160Zm220 220h160v-160H400v160Zm0 220h160v-160H400v160ZM180-400h160v-160H180v160Zm440 0h160v-160H620v160ZM180-180h160v-160H180v160Zm440 0h160v-160H620v160Z\"/>\n",
              "  </svg>\n",
              "    </button>\n",
              "\n",
              "  <style>\n",
              "    .colab-df-container {\n",
              "      display:flex;\n",
              "      gap: 12px;\n",
              "    }\n",
              "\n",
              "    .colab-df-convert {\n",
              "      background-color: #E8F0FE;\n",
              "      border: none;\n",
              "      border-radius: 50%;\n",
              "      cursor: pointer;\n",
              "      display: none;\n",
              "      fill: #1967D2;\n",
              "      height: 32px;\n",
              "      padding: 0 0 0 0;\n",
              "      width: 32px;\n",
              "    }\n",
              "\n",
              "    .colab-df-convert:hover {\n",
              "      background-color: #E2EBFA;\n",
              "      box-shadow: 0px 1px 2px rgba(60, 64, 67, 0.3), 0px 1px 3px 1px rgba(60, 64, 67, 0.15);\n",
              "      fill: #174EA6;\n",
              "    }\n",
              "\n",
              "    .colab-df-buttons div {\n",
              "      margin-bottom: 4px;\n",
              "    }\n",
              "\n",
              "    [theme=dark] .colab-df-convert {\n",
              "      background-color: #3B4455;\n",
              "      fill: #D2E3FC;\n",
              "    }\n",
              "\n",
              "    [theme=dark] .colab-df-convert:hover {\n",
              "      background-color: #434B5C;\n",
              "      box-shadow: 0px 1px 3px 1px rgba(0, 0, 0, 0.15);\n",
              "      filter: drop-shadow(0px 1px 2px rgba(0, 0, 0, 0.3));\n",
              "      fill: #FFFFFF;\n",
              "    }\n",
              "  </style>\n",
              "\n",
              "    <script>\n",
              "      const buttonEl =\n",
              "        document.querySelector('#df-40aa9fc7-2c27-41da-82fd-dac048744eaa button.colab-df-convert');\n",
              "      buttonEl.style.display =\n",
              "        google.colab.kernel.accessAllowed ? 'block' : 'none';\n",
              "\n",
              "      async function convertToInteractive(key) {\n",
              "        const element = document.querySelector('#df-40aa9fc7-2c27-41da-82fd-dac048744eaa');\n",
              "        const dataTable =\n",
              "          await google.colab.kernel.invokeFunction('convertToInteractive',\n",
              "                                                    [key], {});\n",
              "        if (!dataTable) return;\n",
              "\n",
              "        const docLinkHtml = 'Like what you see? Visit the ' +\n",
              "          '<a target=\"_blank\" href=https://colab.research.google.com/notebooks/data_table.ipynb>data table notebook</a>'\n",
              "          + ' to learn more about interactive tables.';\n",
              "        element.innerHTML = '';\n",
              "        dataTable['output_type'] = 'display_data';\n",
              "        await google.colab.output.renderOutput(dataTable, element);\n",
              "        const docLink = document.createElement('div');\n",
              "        docLink.innerHTML = docLinkHtml;\n",
              "        element.appendChild(docLink);\n",
              "      }\n",
              "    </script>\n",
              "  </div>\n",
              "\n",
              "\n",
              "<div id=\"df-fbe80528-1083-464e-b229-09194ad3bdce\">\n",
              "  <button class=\"colab-df-quickchart\" onclick=\"quickchart('df-fbe80528-1083-464e-b229-09194ad3bdce')\"\n",
              "            title=\"Suggest charts\"\n",
              "            style=\"display:none;\">\n",
              "\n",
              "<svg xmlns=\"http://www.w3.org/2000/svg\" height=\"24px\"viewBox=\"0 0 24 24\"\n",
              "     width=\"24px\">\n",
              "    <g>\n",
              "        <path d=\"M19 3H5c-1.1 0-2 .9-2 2v14c0 1.1.9 2 2 2h14c1.1 0 2-.9 2-2V5c0-1.1-.9-2-2-2zM9 17H7v-7h2v7zm4 0h-2V7h2v10zm4 0h-2v-4h2v4z\"/>\n",
              "    </g>\n",
              "</svg>\n",
              "  </button>\n",
              "\n",
              "<style>\n",
              "  .colab-df-quickchart {\n",
              "      --bg-color: #E8F0FE;\n",
              "      --fill-color: #1967D2;\n",
              "      --hover-bg-color: #E2EBFA;\n",
              "      --hover-fill-color: #174EA6;\n",
              "      --disabled-fill-color: #AAA;\n",
              "      --disabled-bg-color: #DDD;\n",
              "  }\n",
              "\n",
              "  [theme=dark] .colab-df-quickchart {\n",
              "      --bg-color: #3B4455;\n",
              "      --fill-color: #D2E3FC;\n",
              "      --hover-bg-color: #434B5C;\n",
              "      --hover-fill-color: #FFFFFF;\n",
              "      --disabled-bg-color: #3B4455;\n",
              "      --disabled-fill-color: #666;\n",
              "  }\n",
              "\n",
              "  .colab-df-quickchart {\n",
              "    background-color: var(--bg-color);\n",
              "    border: none;\n",
              "    border-radius: 50%;\n",
              "    cursor: pointer;\n",
              "    display: none;\n",
              "    fill: var(--fill-color);\n",
              "    height: 32px;\n",
              "    padding: 0;\n",
              "    width: 32px;\n",
              "  }\n",
              "\n",
              "  .colab-df-quickchart:hover {\n",
              "    background-color: var(--hover-bg-color);\n",
              "    box-shadow: 0 1px 2px rgba(60, 64, 67, 0.3), 0 1px 3px 1px rgba(60, 64, 67, 0.15);\n",
              "    fill: var(--button-hover-fill-color);\n",
              "  }\n",
              "\n",
              "  .colab-df-quickchart-complete:disabled,\n",
              "  .colab-df-quickchart-complete:disabled:hover {\n",
              "    background-color: var(--disabled-bg-color);\n",
              "    fill: var(--disabled-fill-color);\n",
              "    box-shadow: none;\n",
              "  }\n",
              "\n",
              "  .colab-df-spinner {\n",
              "    border: 2px solid var(--fill-color);\n",
              "    border-color: transparent;\n",
              "    border-bottom-color: var(--fill-color);\n",
              "    animation:\n",
              "      spin 1s steps(1) infinite;\n",
              "  }\n",
              "\n",
              "  @keyframes spin {\n",
              "    0% {\n",
              "      border-color: transparent;\n",
              "      border-bottom-color: var(--fill-color);\n",
              "      border-left-color: var(--fill-color);\n",
              "    }\n",
              "    20% {\n",
              "      border-color: transparent;\n",
              "      border-left-color: var(--fill-color);\n",
              "      border-top-color: var(--fill-color);\n",
              "    }\n",
              "    30% {\n",
              "      border-color: transparent;\n",
              "      border-left-color: var(--fill-color);\n",
              "      border-top-color: var(--fill-color);\n",
              "      border-right-color: var(--fill-color);\n",
              "    }\n",
              "    40% {\n",
              "      border-color: transparent;\n",
              "      border-right-color: var(--fill-color);\n",
              "      border-top-color: var(--fill-color);\n",
              "    }\n",
              "    60% {\n",
              "      border-color: transparent;\n",
              "      border-right-color: var(--fill-color);\n",
              "    }\n",
              "    80% {\n",
              "      border-color: transparent;\n",
              "      border-right-color: var(--fill-color);\n",
              "      border-bottom-color: var(--fill-color);\n",
              "    }\n",
              "    90% {\n",
              "      border-color: transparent;\n",
              "      border-bottom-color: var(--fill-color);\n",
              "    }\n",
              "  }\n",
              "</style>\n",
              "\n",
              "  <script>\n",
              "    async function quickchart(key) {\n",
              "      const quickchartButtonEl =\n",
              "        document.querySelector('#' + key + ' button');\n",
              "      quickchartButtonEl.disabled = true;  // To prevent multiple clicks.\n",
              "      quickchartButtonEl.classList.add('colab-df-spinner');\n",
              "      try {\n",
              "        const charts = await google.colab.kernel.invokeFunction(\n",
              "            'suggestCharts', [key], {});\n",
              "      } catch (error) {\n",
              "        console.error('Error during call to suggestCharts:', error);\n",
              "      }\n",
              "      quickchartButtonEl.classList.remove('colab-df-spinner');\n",
              "      quickchartButtonEl.classList.add('colab-df-quickchart-complete');\n",
              "    }\n",
              "    (() => {\n",
              "      let quickchartButtonEl =\n",
              "        document.querySelector('#df-fbe80528-1083-464e-b229-09194ad3bdce button');\n",
              "      quickchartButtonEl.style.display =\n",
              "        google.colab.kernel.accessAllowed ? 'block' : 'none';\n",
              "    })();\n",
              "  </script>\n",
              "</div>\n",
              "\n",
              "  <div id=\"id_779d952e-835c-4f4e-918f-23f73cad606d\">\n",
              "    <style>\n",
              "      .colab-df-generate {\n",
              "        background-color: #E8F0FE;\n",
              "        border: none;\n",
              "        border-radius: 50%;\n",
              "        cursor: pointer;\n",
              "        display: none;\n",
              "        fill: #1967D2;\n",
              "        height: 32px;\n",
              "        padding: 0 0 0 0;\n",
              "        width: 32px;\n",
              "      }\n",
              "\n",
              "      .colab-df-generate:hover {\n",
              "        background-color: #E2EBFA;\n",
              "        box-shadow: 0px 1px 2px rgba(60, 64, 67, 0.3), 0px 1px 3px 1px rgba(60, 64, 67, 0.15);\n",
              "        fill: #174EA6;\n",
              "      }\n",
              "\n",
              "      [theme=dark] .colab-df-generate {\n",
              "        background-color: #3B4455;\n",
              "        fill: #D2E3FC;\n",
              "      }\n",
              "\n",
              "      [theme=dark] .colab-df-generate:hover {\n",
              "        background-color: #434B5C;\n",
              "        box-shadow: 0px 1px 3px 1px rgba(0, 0, 0, 0.15);\n",
              "        filter: drop-shadow(0px 1px 2px rgba(0, 0, 0, 0.3));\n",
              "        fill: #FFFFFF;\n",
              "      }\n",
              "    </style>\n",
              "    <button class=\"colab-df-generate\" onclick=\"generateWithVariable('df')\"\n",
              "            title=\"Generate code using this dataframe.\"\n",
              "            style=\"display:none;\">\n",
              "\n",
              "  <svg xmlns=\"http://www.w3.org/2000/svg\" height=\"24px\"viewBox=\"0 0 24 24\"\n",
              "       width=\"24px\">\n",
              "    <path d=\"M7,19H8.4L18.45,9,17,7.55,7,17.6ZM5,21V16.75L18.45,3.32a2,2,0,0,1,2.83,0l1.4,1.43a1.91,1.91,0,0,1,.58,1.4,1.91,1.91,0,0,1-.58,1.4L9.25,21ZM18.45,9,17,7.55Zm-12,3A5.31,5.31,0,0,0,4.9,8.1,5.31,5.31,0,0,0,1,6.5,5.31,5.31,0,0,0,4.9,4.9,5.31,5.31,0,0,0,6.5,1,5.31,5.31,0,0,0,8.1,4.9,5.31,5.31,0,0,0,12,6.5,5.46,5.46,0,0,0,6.5,12Z\"/>\n",
              "  </svg>\n",
              "    </button>\n",
              "    <script>\n",
              "      (() => {\n",
              "      const buttonEl =\n",
              "        document.querySelector('#id_779d952e-835c-4f4e-918f-23f73cad606d button.colab-df-generate');\n",
              "      buttonEl.style.display =\n",
              "        google.colab.kernel.accessAllowed ? 'block' : 'none';\n",
              "\n",
              "      buttonEl.onclick = () => {\n",
              "        google.colab.notebook.generateWithVariable('df');\n",
              "      }\n",
              "      })();\n",
              "    </script>\n",
              "  </div>\n",
              "\n",
              "    </div>\n",
              "  </div>\n"
            ],
            "application/vnd.google.colaboratory.intrinsic+json": {
              "type": "dataframe",
              "variable_name": "df",
              "summary": "{\n  \"name\": \"df\",\n  \"rows\": 2225,\n  \"fields\": [\n    {\n      \"column\": \"category\",\n      \"properties\": {\n        \"dtype\": \"category\",\n        \"num_unique_values\": 5,\n        \"samples\": [\n          \"sport\",\n          \"tech\",\n          \"business\"\n        ],\n        \"semantic_type\": \"\",\n        \"description\": \"\"\n      }\n    },\n    {\n      \"column\": \"text\",\n      \"properties\": {\n        \"dtype\": \"string\",\n        \"num_unique_values\": 2126,\n        \"samples\": [\n          \"o connor aims to grab opportunity johnny o connor is determined to make a big impression when he makes his rbs six nations debut for ireland against scotland on saturday.  the wasps flanker replaces denis leamy but o connor knows that the munster man will be pushing hard for a recall for the following game against england.  it s a  horses for courses  selection really   said o connor.  there s a lot of competition here and i can t just drag my heels around if i don t get picked.  it looks a definite head-to-head battle between himself and 23-year-old leamy - three stone heavier than o connor - for the number seven role against the world champions. nonetheless  all o connor is currently concerned about is making an impression while winning his third cap.   missing the italian game was disappointing certainly  but you can t dwell on these things - it s part and parcel of rugby.  denis has been playing really well and deserved his opportunity.  it s a good situation to be in if there are good players around you  pushing for a place in the side.  o connor  who celebrated his 25th birthday on wednesday  was touted by wasps director of rugby warren gatland as a possible 2005 lions test openside as far back as last september. and his reputation as a breakdown scavenger and heavy hitter has seen him come to the forefront of o sullivan s mind for the scottish tussle. o connor added:  it will be interesting to see how situations on the deck is reffed  with the new laws having come in.   obviously the breakdown a big part of what i do on the pitch so i m hoping to hold some influence there against what is a very solid scottish pack.  o connor will be winning his third cap after making his debut in the victory over south africa last november.\",\n          \"santini resigns as spurs manager tottenham manager jacques santini has resigned for  personal reasons .  the former france manager moved to white hart lane this summer but now wants to return to france. santini said:  my time at tottenham has been memorable and it is with deep regret that i take my leave. i wish the club and the supporters all the best.  private issues in my personal life have arisen which caused my decision. i very much hope that the wonderful fans will respect my decision.  he added:  i should like to thank (sporting director) frank arnesen and (chairman) daniel levy for their understanding.  assistant coach martin jol has been put in temporary charge and will take care of team affairs for saturday s premiership match against charlton.  arnesen said the club were sad to see santini go:  we are obviously disappointed that jacques is leaving us. we fully respect his decision.  i can assure you that the club will act swiftly to minimise the impact of jacques  departure.  our priority is to ensure that this season s performance remains unaffected by this move.  i shall make a further statement on monday  clarifying our position. we wish jacques well.\",\n          \"serena becomes world number two serena williams has moved up five places to second in the world rankings after her australian open win.  williams won her first grand slam title since 2003 with victory over lindsay davenport  the world number one. men s champion marat safin remains fourth in the atp rankings while beaten finalist lleyton hewitt replaces andy roddick as world number two. roger federer retains top spot  but safin has overtaken hewitt to become the new leader of the champions race. alicia molik  who lost a three-set thriller against davenport in the quarter-finals  is in the women s top 10 for the first time in her career. her rise means australia have a player in the top 10 of the men s and women s rankings for the first time in 21 years. and britain s elena baltacha  who qualified and then reached the third round  has risen to 120 in the world - a leap of 65 places and her highest ranking yet.\"\n        ],\n        \"semantic_type\": \"\",\n        \"description\": \"\"\n      }\n    }\n  ]\n}"
            }
          },
          "metadata": {},
          "execution_count": 2
        }
      ],
      "source": [
        "df = pd.read_csv('/content/bbc-text.csv', encoding = 'latin1')\n",
        "df = df.sample(frac = 1)\n",
        "df"
      ]
    },
    {
      "cell_type": "code",
      "source": [
        "df = df.dropna()"
      ],
      "metadata": {
        "id": "ayRRx7dSFxp1"
      },
      "execution_count": null,
      "outputs": []
    },
    {
      "cell_type": "code",
      "execution_count": null,
      "metadata": {
        "colab": {
          "base_uri": "https://localhost:8080/"
        },
        "id": "G7c8rULu8LQZ",
        "outputId": "e55837d7-0c34-4b55-d880-7b9d9221f304"
      },
      "outputs": [
        {
          "output_type": "execute_result",
          "data": {
            "text/plain": [
              "5"
            ]
          },
          "metadata": {},
          "execution_count": 4
        }
      ],
      "source": [
        "#No of a categories\n",
        "len(set(df['category']))"
      ]
    },
    {
      "cell_type": "code",
      "execution_count": null,
      "metadata": {
        "colab": {
          "base_uri": "https://localhost:8080/"
        },
        "id": "833043k1zE5O",
        "outputId": "cad137aa-af93-4a0b-a3ca-01889166400d"
      },
      "outputs": [
        {
          "output_type": "execute_result",
          "data": {
            "text/plain": [
              "category\n",
              "business         510\n",
              "entertainment    386\n",
              "politics         417\n",
              "sport            511\n",
              "tech             401\n",
              "Name: category, dtype: int64"
            ]
          },
          "metadata": {},
          "execution_count": 5
        }
      ],
      "source": [
        "df.groupby('category').category.count()"
      ]
    },
    {
      "cell_type": "code",
      "execution_count": null,
      "metadata": {
        "colab": {
          "base_uri": "https://localhost:8080/",
          "height": 535
        },
        "id": "PadVAxI17lgb",
        "outputId": "f4d7aad7-1df9-459e-b90d-de440a0f7fc8"
      },
      "outputs": [
        {
          "output_type": "display_data",
          "data": {
            "text/plain": [
              "<Figure size 640x480 with 1 Axes>"
            ],
            "image/png": "[encoded data removed]"
          },
          "metadata": {}
        }
      ],
      "source": [
        "#Analyzing data\n",
        "df.groupby('category').category.count().plot.bar()\n",
        "plt.show()"
      ]
    },
    {
      "cell_type": "code",
      "execution_count": null,
      "metadata": {
        "colab": {
          "base_uri": "https://localhost:8080/"
        },
        "id": "HC9MbEslrAln",
        "outputId": "a9a24d74-154f-43d8-bc7c-eaa88b9c3ca3"
      },
      "outputs": [
        {
          "output_type": "stream",
          "name": "stdout",
          "text": [
            "['i', 'me', 'my', 'myself', 'we', 'our', 'ours', 'ourselves', 'you', \"you're\", \"you've\", \"you'll\", \"you'd\", 'your', 'yours', 'yourself', 'yourselves', 'he', 'him', 'his', 'himself', 'she', \"she's\", 'her', 'hers', 'herself', 'it', \"it's\", 'its', 'itself', 'they', 'them', 'their', 'theirs', 'themselves', 'what', 'which', 'who', 'whom', 'this', 'that', \"that'll\", 'these', 'those', 'am', 'is', 'are', 'was', 'were', 'be', 'been', 'being', 'have', 'has', 'had', 'having', 'do', 'does', 'did', 'doing', 'a', 'an', 'the', 'and', 'but', 'if', 'or', 'because', 'as', 'until', 'while', 'of', 'at', 'by', 'for', 'with', 'about', 'against', 'between', 'into', 'through', 'during', 'before', 'after', 'above', 'below', 'to', 'from', 'up', 'down', 'in', 'out', 'on', 'off', 'over', 'under', 'again', 'further', 'then', 'once', 'here', 'there', 'when', 'where', 'why', 'how', 'all', 'any', 'both', 'each', 'few', 'more', 'most', 'other', 'some', 'such', 'no', 'nor', 'not', 'only', 'own', 'same', 'so', 'than', 'too', 'very', 's', 't', 'can', 'will', 'just', 'don', \"don't\", 'should', \"should've\", 'now', 'd', 'll', 'm', 'o', 're', 've', 'y', 'ain', 'aren', \"aren't\", 'couldn', \"couldn't\", 'didn', \"didn't\", 'doesn', \"doesn't\", 'hadn', \"hadn't\", 'hasn', \"hasn't\", 'haven', \"haven't\", 'isn', \"isn't\", 'ma', 'mightn', \"mightn't\", 'mustn', \"mustn't\", 'needn', \"needn't\", 'shan', \"shan't\", 'shouldn', \"shouldn't\", 'wasn', \"wasn't\", 'weren', \"weren't\", 'won', \"won't\", 'wouldn', \"wouldn't\"]\n"
          ]
        },
        {
          "output_type": "stream",
          "name": "stderr",
          "text": [
            "[nltk_data] Downloading package stopwords to /root/nltk_data...\n",
            "[nltk_data]   Package stopwords is already up-to-date!\n"
          ]
        }
      ],
      "source": [
        "#stop words\n",
        "nltk.download('stopwords')\n",
        "words = stopwords.words(\"english\")\n",
        "print(words)"
      ]
    },
    {
      "cell_type": "code",
      "execution_count": null,
      "metadata": {
        "colab": {
          "base_uri": "https://localhost:8080/",
          "height": 35
        },
        "id": "SRTnGRuLssZJ",
        "outputId": "29535acf-5797-4dfa-d7c8-a741bbe760a1"
      },
      "outputs": [
        {
          "output_type": "execute_result",
          "data": {
            "text/plain": [
              "'Hello World    '"
            ],
            "application/vnd.google.colaboratory.intrinsic+json": {
              "type": "string"
            }
          },
          "metadata": {},
          "execution_count": 8
        }
      ],
      "source": [
        "a = \"Hello_World!243\"\n",
        "regs = re.sub(\"[^a-zA-Z]\", \" \", a)\n",
        "regs"
      ]
    },
    {
      "cell_type": "code",
      "execution_count": null,
      "metadata": {
        "colab": {
          "base_uri": "https://localhost:8080/",
          "height": 191
        },
        "id": "-w2plL6498xG",
        "outputId": "ef3456fd-f6a7-42c2-e878-bc603b46668b"
      },
      "outputs": [
        {
          "output_type": "execute_result",
          "data": {
            "text/plain": [
              "'ibm frees     software patents computer giant ibm says     of its software patents will be released into the open development community   the move means developers will be able to use the technologies without paying for a licence from the company  ibm described the step as a  new era  in how it dealt with intellectual property and promised further patents would be made freely available  the patents include software for a range of practices  including text recognition and database management  traditional technology business policy is to amass patents and despite ibm s announcement the company continues to follow this route   ibm was granted       patents in       more than any other firm in the us  the new york times reports  for each of the past    years ibm has been granted more us patents than any other company  ibm has received        us patents in that period and reportedly has more than        current patents  in a statement  dr john e  kelly  ibm senior vice president  technology and intellectual property  said   true innovation leadership is about more than just the numbers of patents granted  it s about innovating to benefit customers  partners and society    our pledge today is the beginning of a new era in how ibm will manage intellectual property   in the past  ibm has supported the non commercial operating system linux although critics have said this was done only as an attempt to undermine microsoft   the company said it wanted to encourage other firms to release patents into what it called a  patent commons   adam jollans  ibm s world wide linux strategy manager  said the move was a genuine attempt to encourage innovation   we believe that releasing these patents will result in innovation moving more quickly   this is about encouraging collaboration and following a model much like academia   mr jollans likened the plan for a patent commons to the way the internet was developed and said everyone could take advantage of the result of collaboration   the internet s impact has been on everyone  the benefits are there for everyone to take advantage of   stuart cohen  chief executive of us firm open source development labs  said the move could mean a change in the way companies deal with patents    i think other companies will follow suit   he said  but not everyone was as supportive  florian mueller  campaign manager of a group lobbying toprevent software patents becoming legal in the european union dismissed ibm s move as insubstantial   it s just diversionary tactics   wrote mr mueller  who leadsnosoftwarepatents com  in a message on the group s website   let s put this into perspective  we re talking aboutroughly one percent of ibm s worldwide patent portfolio  they filethat number of patents in about a month s time   he added  ibm will continue to hold the     patents but it has pledged to seek no royalties from the patents  the company said it would not place any restrictions on companies  groups or individuals who use them in open source projects  open source software is developed by programmers who offer the source code   the origins of the program   for free and allow others to adapt or improve the software  end users have the right to modify and redistribute the software  as well as the right to package and sell the software  other areas covered by the patents released by ibm include storage management  simultaneous multiprocessing  image processing  networking and e commerce '"
            ],
            "application/vnd.google.colaboratory.intrinsic+json": {
              "type": "string"
            }
          },
          "metadata": {},
          "execution_count": 9
        }
      ],
      "source": [
        "# Data Cleaning using regex\n",
        "regs = re.sub(\"[^a-zA-Z]\", \" \", df['text'][126]).lower()\n",
        "regs"
      ]
    },
    {
      "cell_type": "code",
      "execution_count": null,
      "metadata": {
        "colab": {
          "base_uri": "https://localhost:8080/",
          "height": 52
        },
        "id": "bQU9V9SN1yUy",
        "outputId": "c3e86ef2-b20e-4ea8-a795-c8bf39708d89"
      },
      "outputs": [
        {
          "output_type": "stream",
          "name": "stdout",
          "text": [
            "['I', 'am', 'loving', 'computing']\n"
          ]
        },
        {
          "output_type": "execute_result",
          "data": {
            "text/plain": [
              "'i am love comput'"
            ],
            "application/vnd.google.colaboratory.intrinsic+json": {
              "type": "string"
            }
          },
          "metadata": {},
          "execution_count": 10
        }
      ],
      "source": [
        "# Data Cleaning using stemmer\n",
        "\n",
        "stemmer = PorterStemmer()\n",
        "data = \"I am loving computing\".split()\n",
        "print(data)\n",
        "\" \".join([stemmer.stem(i) for i in data])\n",
        "# stemmer.stem(\"\")"
      ]
    },
    {
      "cell_type": "code",
      "execution_count": null,
      "metadata": {
        "colab": {
          "base_uri": "https://localhost:8080/",
          "height": 229
        },
        "id": "2W1nwixxv68z",
        "outputId": "78b8acaf-64ba-4fc6-9a35-77c3de967b79"
      },
      "outputs": [
        {
          "output_type": "stream",
          "name": "stdout",
          "text": [
            "['tv', 'future', 'in', 'the', 'hands', 'of', 'viewers', 'with', 'home', 'theatre', 'systems', 'plasma', 'high-definition', 'tvs', 'and', 'digital', 'video', 'recorders', 'moving', 'into', 'the', 'living', 'room', 'the', 'way', 'people', 'watch', 'tv', 'will', 'be', 'radically', 'different', 'in', 'five', 'years', 'time.', 'that', 'is', 'according', 'to', 'an', 'expert', 'panel', 'which', 'gathered', 'at', 'the', 'annual', 'consumer', 'electronics', 'show', 'in', 'las', 'vegas', 'to', 'discuss', 'how', 'these', 'new', 'technologies', 'will', 'impact', 'one', 'of', 'our', 'favourite', 'pastimes.', 'with', 'the', 'us', 'leading', 'the', 'trend', 'programmes', 'and', 'other', 'content', 'will', 'be', 'delivered', 'to', 'viewers', 'via', 'home', 'networks', 'through', 'cable', 'satellite', 'telecoms', 'companies', 'and', 'broadband', 'service', 'providers', 'to', 'front', 'rooms', 'and', 'portable', 'devices.', 'one', 'of', 'the', 'most', 'talked-about', 'technologies', 'of', 'ces', 'has', 'been', 'digital', 'and', 'personal', 'video', 'recorders', '(dvr', 'and', 'pvr).', 'these', 'set-top', 'boxes', 'like', 'the', 'us', 's', 'tivo', 'and', 'the', 'uk', 's', 'sky+', 'system', 'allow', 'people', 'to', 'record', 'store', 'play', 'pause', 'and', 'forward', 'wind', 'tv', 'programmes', 'when', 'they', 'want.', 'essentially', 'the', 'technology', 'allows', 'for', 'much', 'more', 'personalised', 'tv.', 'they', 'are', 'also', 'being', 'built-in', 'to', 'high-definition', 'tv', 'sets', 'which', 'are', 'big', 'business', 'in', 'japan', 'and', 'the', 'us', 'but', 'slower', 'to', 'take', 'off', 'in', 'europe', 'because', 'of', 'the', 'lack', 'of', 'high-definition', 'programming.', 'not', 'only', 'can', 'people', 'forward', 'wind', 'through', 'adverts', 'they', 'can', 'also', 'forget', 'about', 'abiding', 'by', 'network', 'and', 'channel', 'schedules', 'putting', 'together', 'their', 'own', 'a-la-carte', 'entertainment.', 'but', 'some', 'us', 'networks', 'and', 'cable', 'and', 'satellite', 'companies', 'are', 'worried', 'about', 'what', 'it', 'means', 'for', 'them', 'in', 'terms', 'of', 'advertising', 'revenues', 'as', 'well', 'as', 'brand', 'identity', 'and', 'viewer', 'loyalty', 'to', 'channels.', 'although', 'the', 'us', 'leads', 'in', 'this', 'technology', 'at', 'the', 'moment', 'it', 'is', 'also', 'a', 'concern', 'that', 'is', 'being', 'raised', 'in', 'europe', 'particularly', 'with', 'the', 'growing', 'uptake', 'of', 'services', 'like', 'sky+.', 'what', 'happens', 'here', 'today', 'we', 'will', 'see', 'in', 'nine', 'months', 'to', 'a', 'years', 'time', 'in', 'the', 'uk', 'adam', 'hume', 'the', 'bbc', 'broadcast', 's', 'futurologist', 'told', 'the', 'bbc', 'news', 'website.', 'for', 'the', 'likes', 'of', 'the', 'bbc', 'there', 'are', 'no', 'issues', 'of', 'lost', 'advertising', 'revenue', 'yet.', 'it', 'is', 'a', 'more', 'pressing', 'issue', 'at', 'the', 'moment', 'for', 'commercial', 'uk', 'broadcasters', 'but', 'brand', 'loyalty', 'is', 'important', 'for', 'everyone.', 'we', 'will', 'be', 'talking', 'more', 'about', 'content', 'brands', 'rather', 'than', 'network', 'brands', 'said', 'tim', 'hanlon', 'from', 'brand', 'communications', 'firm', 'starcom', 'mediavest.', 'the', 'reality', 'is', 'that', 'with', 'broadband', 'connections', 'anybody', 'can', 'be', 'the', 'producer', 'of', 'content.', 'he', 'added:', 'the', 'challenge', 'now', 'is', 'that', 'it', 'is', 'hard', 'to', 'promote', 'a', 'programme', 'with', 'so', 'much', 'choice.', 'what', 'this', 'means', 'said', 'stacey', 'jolna', 'senior', 'vice', 'president', 'of', 'tv', 'guide', 'tv', 'group', 'is', 'that', 'the', 'way', 'people', 'find', 'the', 'content', 'they', 'want', 'to', 'watch', 'has', 'to', 'be', 'simplified', 'for', 'tv', 'viewers.', 'it', 'means', 'that', 'networks', 'in', 'us', 'terms', 'or', 'channels', 'could', 'take', 'a', 'leaf', 'out', 'of', 'google', 's', 'book', 'and', 'be', 'the', 'search', 'engine', 'of', 'the', 'future', 'instead', 'of', 'the', 'scheduler', 'to', 'help', 'people', 'find', 'what', 'they', 'want', 'to', 'watch.', 'this', 'kind', 'of', 'channel', 'model', 'might', 'work', 'for', 'the', 'younger', 'ipod', 'generation', 'which', 'is', 'used', 'to', 'taking', 'control', 'of', 'their', 'gadgets', 'and', 'what', 'they', 'play', 'on', 'them.', 'but', 'it', 'might', 'not', 'suit', 'everyone', 'the', 'panel', 'recognised.', 'older', 'generations', 'are', 'more', 'comfortable', 'with', 'familiar', 'schedules', 'and', 'channel', 'brands', 'because', 'they', 'know', 'what', 'they', 'are', 'getting.', 'they', 'perhaps', 'do', 'not', 'want', 'so', 'much', 'of', 'the', 'choice', 'put', 'into', 'their', 'hands', 'mr', 'hanlon', 'suggested.', 'on', 'the', 'other', 'end', 'you', 'have', 'the', 'kids', 'just', 'out', 'of', 'diapers', 'who', 'are', 'pushing', 'buttons', 'already', '-', 'everything', 'is', 'possible', 'and', 'available', 'to', 'them', 'said', 'mr', 'hanlon.', 'ultimately', 'the', 'consumer', 'will', 'tell', 'the', 'market', 'they', 'want.', 'of', 'the', '50', '000', 'new', 'gadgets', 'and', 'technologies', 'being', 'showcased', 'at', 'ces', 'many', 'of', 'them', 'are', 'about', 'enhancing', 'the', 'tv-watching', 'experience.', 'high-definition', 'tv', 'sets', 'are', 'everywhere', 'and', 'many', 'new', 'models', 'of', 'lcd', '(liquid', 'crystal', 'display)', 'tvs', 'have', 'been', 'launched', 'with', 'dvr', 'capability', 'built', 'into', 'them', 'instead', 'of', 'being', 'external', 'boxes.', 'one', 'such', 'example', 'launched', 'at', 'the', 'show', 'is', 'humax', 's', '26-inch', 'lcd', 'tv', 'with', 'an', '80-hour', 'tivo', 'dvr', 'and', 'dvd', 'recorder.', 'one', 'of', 'the', 'us', 's', 'biggest', 'satellite', 'tv', 'companies', 'directtv', 'has', 'even', 'launched', 'its', 'own', 'branded', 'dvr', 'at', 'the', 'show', 'with', '100-hours', 'of', 'recording', 'capability', 'instant', 'replay', 'and', 'a', 'search', 'function.', 'the', 'set', 'can', 'pause', 'and', 'rewind', 'tv', 'for', 'up', 'to', '90', 'hours.', 'and', 'microsoft', 'chief', 'bill', 'gates', 'announced', 'in', 'his', 'pre-show', 'keynote', 'speech', 'a', 'partnership', 'with', 'tivo', 'called', 'tivotogo', 'which', 'means', 'people', 'can', 'play', 'recorded', 'programmes', 'on', 'windows', 'pcs', 'and', 'mobile', 'devices.', 'all', 'these', 'reflect', 'the', 'increasing', 'trend', 'of', 'freeing', 'up', 'multimedia', 'so', 'that', 'people', 'can', 'watch', 'what', 'they', 'want', 'when', 'they', 'want.']\n"
          ]
        },
        {
          "output_type": "execute_result",
          "data": {
            "text/plain": [
              "'tv futur in the hand of viewer with home theatr system plasma high-definit tv and digit video record move into the live room the way peopl watch tv will be radic differ in five year time. that is accord to an expert panel which gather at the annual consum electron show in la vega to discuss how these new technolog will impact one of our favourit pastimes. with the us lead the trend programm and other content will be deliv to viewer via home network through cabl satellit telecom compani and broadband servic provid to front room and portabl devices. one of the most talked-about technolog of ce ha been digit and person video record (dvr and pvr). these set-top box like the us s tivo and the uk s sky+ system allow peopl to record store play paus and forward wind tv programm when they want. essenti the technolog allow for much more personalis tv. they are also be built-in to high-definit tv set which are big busi in japan and the us but slower to take off in europ becaus of the lack of high-definit programming. not onli can peopl forward wind through advert they can also forget about abid by network and channel schedul put togeth their own a-la-cart entertainment. but some us network and cabl and satellit compani are worri about what it mean for them in term of advertis revenu as well as brand ident and viewer loyalti to channels. although the us lead in thi technolog at the moment it is also a concern that is be rais in europ particularli with the grow uptak of servic like sky+. what happen here today we will see in nine month to a year time in the uk adam hume the bbc broadcast s futurologist told the bbc news website. for the like of the bbc there are no issu of lost advertis revenu yet. it is a more press issu at the moment for commerci uk broadcast but brand loyalti is import for everyone. we will be talk more about content brand rather than network brand said tim hanlon from brand commun firm starcom mediavest. the realiti is that with broadband connect anybodi can be the produc of content. he added: the challeng now is that it is hard to promot a programm with so much choice. what thi mean said stacey jolna senior vice presid of tv guid tv group is that the way peopl find the content they want to watch ha to be simplifi for tv viewers. it mean that network in us term or channel could take a leaf out of googl s book and be the search engin of the futur instead of the schedul to help peopl find what they want to watch. thi kind of channel model might work for the younger ipod gener which is use to take control of their gadget and what they play on them. but it might not suit everyon the panel recognised. older gener are more comfort with familiar schedul and channel brand becaus they know what they are getting. they perhap do not want so much of the choic put into their hand mr hanlon suggested. on the other end you have the kid just out of diaper who are push button alreadi - everyth is possibl and avail to them said mr hanlon. ultim the consum will tell the market they want. of the 50 000 new gadget and technolog be showcas at ce mani of them are about enhanc the tv-watch experience. high-definit tv set are everywher and mani new model of lcd (liquid crystal display) tv have been launch with dvr capabl built into them instead of be extern boxes. one such exampl launch at the show is humax s 26-inch lcd tv with an 80-hour tivo dvr and dvd recorder. one of the us s biggest satellit tv compani directtv ha even launch it own brand dvr at the show with 100-hour of record capabl instant replay and a search function. the set can paus and rewind tv for up to 90 hours. and microsoft chief bill gate announc in hi pre-show keynot speech a partnership with tivo call tivotogo which mean peopl can play record programm on window pc and mobil devices. all these reflect the increas trend of free up multimedia so that peopl can watch what they want when they want.'"
            ],
            "application/vnd.google.colaboratory.intrinsic+json": {
              "type": "string"
            }
          },
          "metadata": {},
          "execution_count": 11
        }
      ],
      "source": [
        "# Data Cleaning using stemmer\n",
        "\n",
        "stemmer = PorterStemmer()\n",
        "data = df['text'][0].split()\n",
        "print(data)\n",
        "\" \".join([stemmer.stem(i) for i in data])\n",
        "# stemmer.stem(\"\")"
      ]
    },
    {
      "cell_type": "code",
      "execution_count": null,
      "metadata": {
        "colab": {
          "base_uri": "https://localhost:8080/",
          "height": 191
        },
        "id": "BCAx9MksxDES",
        "outputId": "2c0f42ce-0bd3-424d-94b8-0fec03e92951"
      },
      "outputs": [
        {
          "output_type": "execute_result",
          "data": {
            "text/plain": [
              "'tv future hands viewers home theatre systems plasma high-definition tvs digital video recorders moving living room way people watch tv radically different five years time. according expert panel gathered annual consumer electronics show las vegas discuss new technologies impact one favourite pastimes. us leading trend programmes content delivered viewers via home networks cable satellite telecoms companies broadband service providers front rooms portable devices. one talked-about technologies ces digital personal video recorders (dvr pvr). set-top boxes like us tivo uk sky+ system allow people record store play pause forward wind tv programmes want. essentially technology allows much personalised tv. also built-in high-definition tv sets big business japan us slower take europe lack high-definition programming. people forward wind adverts also forget abiding network channel schedules putting together a-la-carte entertainment. us networks cable satellite companies worried means terms advertising revenues well brand identity viewer loyalty channels. although us leads technology moment also concern raised europe particularly growing uptake services like sky+. happens today see nine months years time uk adam hume bbc broadcast futurologist told bbc news website. likes bbc issues lost advertising revenue yet. pressing issue moment commercial uk broadcasters brand loyalty important everyone. talking content brands rather network brands said tim hanlon brand communications firm starcom mediavest. reality broadband connections anybody producer content. added: challenge hard promote programme much choice. means said stacey jolna senior vice president tv guide tv group way people find content want watch simplified tv viewers. means networks us terms channels could take leaf google book search engine future instead scheduler help people find want watch. kind channel model might work younger ipod generation used taking control gadgets play them. might suit everyone panel recognised. older generations comfortable familiar schedules channel brands know getting. perhaps want much choice put hands mr hanlon suggested. end kids diapers pushing buttons already - everything possible available said mr hanlon. ultimately consumer tell market want. 50 000 new gadgets technologies showcased ces many enhancing tv-watching experience. high-definition tv sets everywhere many new models lcd (liquid crystal display) tvs launched dvr capability built instead external boxes. one example launched show humax 26-inch lcd tv 80-hour tivo dvr dvd recorder. one us biggest satellite tv companies directtv even launched branded dvr show 100-hours recording capability instant replay search function. set pause rewind tv 90 hours. microsoft chief bill gates announced pre-show keynote speech partnership tivo called tivotogo means people play recorded programmes windows pcs mobile devices. reflect increasing trend freeing multimedia people watch want want.'"
            ],
            "application/vnd.google.colaboratory.intrinsic+json": {
              "type": "string"
            }
          },
          "metadata": {},
          "execution_count": 12
        }
      ],
      "source": [
        "#removing stopwords\n",
        "data = df['text'][0].split()\n",
        "for i in words:\n",
        "  if i in data:\n",
        "    c = data.count(i)\n",
        "    for j in range(c):\n",
        "      data.remove(i)\n",
        "\" \".join(data)\n"
      ]
    },
    {
      "cell_type": "code",
      "execution_count": null,
      "metadata": {
        "colab": {
          "base_uri": "https://localhost:8080/",
          "height": 229
        },
        "id": "mZPU9uU5fr2I",
        "outputId": "19e07b24-b129-4ac0-c1c0-4c4996d2d0b5"
      },
      "outputs": [
        {
          "output_type": "stream",
          "name": "stdout",
          "text": [
            "['i', 'me', 'my', 'myself', 'we', 'our', 'ours', 'ourselves', 'you', \"you're\", \"you've\", \"you'll\", \"you'd\", 'your', 'yours', 'yourself', 'yourselves', 'he', 'him', 'his', 'himself', 'she', \"she's\", 'her', 'hers', 'herself', 'it', \"it's\", 'its', 'itself', 'they', 'them', 'their', 'theirs', 'themselves', 'what', 'which', 'who', 'whom', 'this', 'that', \"that'll\", 'these', 'those', 'am', 'is', 'are', 'was', 'were', 'be', 'been', 'being', 'have', 'has', 'had', 'having', 'do', 'does', 'did', 'doing', 'a', 'an', 'the', 'and', 'but', 'if', 'or', 'because', 'as', 'until', 'while', 'of', 'at', 'by', 'for', 'with', 'about', 'against', 'between', 'into', 'through', 'during', 'before', 'after', 'above', 'below', 'to', 'from', 'up', 'down', 'in', 'out', 'on', 'off', 'over', 'under', 'again', 'further', 'then', 'once', 'here', 'there', 'when', 'where', 'why', 'how', 'all', 'any', 'both', 'each', 'few', 'more', 'most', 'other', 'some', 'such', 'no', 'nor', 'not', 'only', 'own', 'same', 'so', 'than', 'too', 'very', 's', 't', 'can', 'will', 'just', 'don', \"don't\", 'should', \"should've\", 'now', 'd', 'll', 'm', 'o', 're', 've', 'y', 'ain', 'aren', \"aren't\", 'couldn', \"couldn't\", 'didn', \"didn't\", 'doesn', \"doesn't\", 'hadn', \"hadn't\", 'hasn', \"hasn't\", 'haven', \"haven't\", 'isn', \"isn't\", 'ma', 'mightn', \"mightn't\", 'mustn', \"mustn't\", 'needn', \"needn't\", 'shan', \"shan't\", 'shouldn', \"shouldn't\", 'wasn', \"wasn't\", 'weren', \"weren't\", 'won', \"won't\", 'wouldn', \"wouldn't\"]\n"
          ]
        },
        {
          "output_type": "execute_result",
          "data": {
            "text/plain": [
              "'ibm frees software patents computer giant ibm says software patents released open development community move means developers able use technologies without paying licence company ibm described step new era dealt intellectual property promised patents would made freely available patents include software range practices including text recognition database management traditional technology business policy amass patents despite ibm announcement company continues follow route ibm granted patents firm us new york times reports past years ibm granted us patents company ibm received us patents period reportedly current patents statement dr john e kelly ibm senior vice president technology intellectual property said true innovation leadership numbers patents granted innovating benefit customers partners society pledge today beginning new era ibm manage intellectual property past ibm supported non commercial operating system linux although critics said done attempt undermine microsoft company said wanted encourage firms release patents called patent commons adam jollans ibm world wide linux strategy manager said move genuine attempt encourage innovation believe releasing patents result innovation moving quickly encouraging collaboration following model much like academia mr jollans likened plan patent commons way internet developed said everyone could take advantage result collaboration internet impact everyone benefits everyone take advantage stuart cohen chief executive us firm open source development labs said move could mean change way companies deal patents think companies follow suit said everyone supportive florian mueller campaign manager group lobbying toprevent software patents becoming legal european union dismissed ibm move insubstantial diversionary tactics wrote mr mueller leadsnosoftwarepatents com message group website let put perspective talking aboutroughly one percent ibm worldwide patent portfolio filethat number patents month time added ibm continue hold patents pledged seek royalties patents company said would place restrictions companies groups individuals use open source projects open source software developed programmers offer source code origins program free allow others adapt improve software end users right modify redistribute software well right package sell software areas covered patents released ibm include storage management simultaneous multiprocessing image processing networking e commerce'"
            ],
            "application/vnd.google.colaboratory.intrinsic+json": {
              "type": "string"
            }
          },
          "metadata": {},
          "execution_count": 13
        }
      ],
      "source": [
        "# Data Cleaning removing stopwords\n",
        "words = stopwords.words(\"english\")\n",
        "print(words)\n",
        "without_stop_words_of_a_news = \" \".join([i for i in regs.lower().split() if i not in words])\n",
        "without_stop_words_of_a_news"
      ]
    },
    {
      "cell_type": "code",
      "execution_count": null,
      "metadata": {
        "colab": {
          "base_uri": "https://localhost:8080/",
          "height": 441
        },
        "id": "8iBXfOfoFvaF",
        "outputId": "b32fc2c1-17f3-4ebd-cc2b-e749081aff26"
      },
      "outputs": [
        {
          "output_type": "execute_result",
          "data": {
            "text/plain": [
              "           category                                               text  \\\n",
              "541   entertainment  mumbai bombs movie postponed the release of a ...   \n",
              "422           sport  scots suffer another injury blow scotland s ba...   \n",
              "157        business  gm  ford cut output as sales fall us car firms...   \n",
              "1543       politics  best person  for top legal job the  best perso...   \n",
              "608        politics  probe launched on ken nazi jibe an investigati...   \n",
              "...             ...                                                ...   \n",
              "1562  entertainment  manics in charge of bbc 6 music the manic stre...   \n",
              "18         business  japanese banking battle at an end japan s sumi...   \n",
              "1371       politics  concerns at school diploma plan final appeals ...   \n",
              "164        politics  ukip candidate suspended eurosceptic party uki...   \n",
              "400           sport  double injury blow strikes wales wales centre ...   \n",
              "\n",
              "                                                cleaned  \n",
              "541   mumbai bomb movi postpon releas film mumbai bo...  \n",
              "422   scot suffer anoth injuri blow scotland back ro...  \n",
              "157   gm ford cut output sale fall us car firm gener...  \n",
              "1543  best person top legal job best person job appo...  \n",
              "608   probe launch ken nazi jibe investig standard b...  \n",
              "...                                                 ...  \n",
              "1562  manic charg bbc music manic street preacher ta...  \n",
              "18    japanes bank battl end japan sumitomo mitsui f...  \n",
              "1371  concern school diploma plan final appeal made ...  \n",
              "164   ukip candid suspend euroscept parti ukip suspe...  \n",
              "400   doubl injuri blow strike wale wale centr sonni...  \n",
              "\n",
              "[2225 rows x 3 columns]"
            ],
            "text/html": [
              "\n",
              "  <div id=\"df-774b73c7-0f09-4fc9-bd4d-964f482a3f61\" class=\"colab-df-container\">\n",
              "    <div>\n",
              "<style scoped>\n",
              "    .dataframe tbody tr th:only-of-type {\n",
              "        vertical-align: middle;\n",
              "    }\n",
              "\n",
              "    .dataframe tbody tr th {\n",
              "        vertical-align: top;\n",
              "    }\n",
              "\n",
              "    .dataframe thead th {\n",
              "        text-align: right;\n",
              "    }\n",
              "</style>\n",
              "<table border=\"1\" class=\"dataframe\">\n",
              "  <thead>\n",
              "    <tr style=\"text-align: right;\">\n",
              "      <th></th>\n",
              "      <th>category</th>\n",
              "      <th>text</th>\n",
              "      <th>cleaned</th>\n",
              "    </tr>\n",
              "  </thead>\n",
              "  <tbody>\n",
              "    <tr>\n",
              "      <th>541</th>\n",
              "      <td>entertainment</td>\n",
              "      <td>mumbai bombs movie postponed the release of a ...</td>\n",
              "      <td>mumbai bomb movi postpon releas film mumbai bo...</td>\n",
              "    </tr>\n",
              "    <tr>\n",
              "      <th>422</th>\n",
              "      <td>sport</td>\n",
              "      <td>scots suffer another injury blow scotland s ba...</td>\n",
              "      <td>scot suffer anoth injuri blow scotland back ro...</td>\n",
              "    </tr>\n",
              "    <tr>\n",
              "      <th>157</th>\n",
              "      <td>business</td>\n",
              "      <td>gm  ford cut output as sales fall us car firms...</td>\n",
              "      <td>gm ford cut output sale fall us car firm gener...</td>\n",
              "    </tr>\n",
              "    <tr>\n",
              "      <th>1543</th>\n",
              "      <td>politics</td>\n",
              "      <td>best person  for top legal job the  best perso...</td>\n",
              "      <td>best person top legal job best person job appo...</td>\n",
              "    </tr>\n",
              "    <tr>\n",
              "      <th>608</th>\n",
              "      <td>politics</td>\n",
              "      <td>probe launched on ken nazi jibe an investigati...</td>\n",
              "      <td>probe launch ken nazi jibe investig standard b...</td>\n",
              "    </tr>\n",
              "    <tr>\n",
              "      <th>...</th>\n",
              "      <td>...</td>\n",
              "      <td>...</td>\n",
              "      <td>...</td>\n",
              "    </tr>\n",
              "    <tr>\n",
              "      <th>1562</th>\n",
              "      <td>entertainment</td>\n",
              "      <td>manics in charge of bbc 6 music the manic stre...</td>\n",
              "      <td>manic charg bbc music manic street preacher ta...</td>\n",
              "    </tr>\n",
              "    <tr>\n",
              "      <th>18</th>\n",
              "      <td>business</td>\n",
              "      <td>japanese banking battle at an end japan s sumi...</td>\n",
              "      <td>japanes bank battl end japan sumitomo mitsui f...</td>\n",
              "    </tr>\n",
              "    <tr>\n",
              "      <th>1371</th>\n",
              "      <td>politics</td>\n",
              "      <td>concerns at school diploma plan final appeals ...</td>\n",
              "      <td>concern school diploma plan final appeal made ...</td>\n",
              "    </tr>\n",
              "    <tr>\n",
              "      <th>164</th>\n",
              "      <td>politics</td>\n",
              "      <td>ukip candidate suspended eurosceptic party uki...</td>\n",
              "      <td>ukip candid suspend euroscept parti ukip suspe...</td>\n",
              "    </tr>\n",
              "    <tr>\n",
              "      <th>400</th>\n",
              "      <td>sport</td>\n",
              "      <td>double injury blow strikes wales wales centre ...</td>\n",
              "      <td>doubl injuri blow strike wale wale centr sonni...</td>\n",
              "    </tr>\n",
              "  </tbody>\n",
              "</table>\n",
              "<p>2225 rows × 3 columns</p>\n",
              "</div>\n",
              "    <div class=\"colab-df-buttons\">\n",
              "\n",
              "  <div class=\"colab-df-container\">\n",
              "    <button class=\"colab-df-convert\" onclick=\"convertToInteractive('df-774b73c7-0f09-4fc9-bd4d-964f482a3f61')\"\n",
              "            title=\"Convert this dataframe to an interactive table.\"\n",
              "            style=\"display:none;\">\n",
              "\n",
              "  <svg xmlns=\"http://www.w3.org/2000/svg\" height=\"24px\" viewBox=\"0 -960 960 960\">\n",
              "    <path d=\"M120-120v-720h720v720H120Zm60-500h600v-160H180v160Zm220 220h160v-160H400v160Zm0 220h160v-160H400v160ZM180-400h160v-160H180v160Zm440 0h160v-160H620v160ZM180-180h160v-160H180v160Zm440 0h160v-160H620v160Z\"/>\n",
              "  </svg>\n",
              "    </button>\n",
              "\n",
              "  <style>\n",
              "    .colab-df-container {\n",
              "      display:flex;\n",
              "      gap: 12px;\n",
              "    }\n",
              "\n",
              "    .colab-df-convert {\n",
              "      background-color: #E8F0FE;\n",
              "      border: none;\n",
              "      border-radius: 50%;\n",
              "      cursor: pointer;\n",
              "      display: none;\n",
              "      fill: #1967D2;\n",
              "      height: 32px;\n",
              "      padding: 0 0 0 0;\n",
              "      width: 32px;\n",
              "    }\n",
              "\n",
              "    .colab-df-convert:hover {\n",
              "      background-color: #E2EBFA;\n",
              "      box-shadow: 0px 1px 2px rgba(60, 64, 67, 0.3), 0px 1px 3px 1px rgba(60, 64, 67, 0.15);\n",
              "      fill: #174EA6;\n",
              "    }\n",
              "\n",
              "    .colab-df-buttons div {\n",
              "      margin-bottom: 4px;\n",
              "    }\n",
              "\n",
              "    [theme=dark] .colab-df-convert {\n",
              "      background-color: #3B4455;\n",
              "      fill: #D2E3FC;\n",
              "    }\n",
              "\n",
              "    [theme=dark] .colab-df-convert:hover {\n",
              "      background-color: #434B5C;\n",
              "      box-shadow: 0px 1px 3px 1px rgba(0, 0, 0, 0.15);\n",
              "      filter: drop-shadow(0px 1px 2px rgba(0, 0, 0, 0.3));\n",
              "      fill: #FFFFFF;\n",
              "    }\n",
              "  </style>\n",
              "\n",
              "    <script>\n",
              "      const buttonEl =\n",
              "        document.querySelector('#df-774b73c7-0f09-4fc9-bd4d-964f482a3f61 button.colab-df-convert');\n",
              "      buttonEl.style.display =\n",
              "        google.colab.kernel.accessAllowed ? 'block' : 'none';\n",
              "\n",
              "      async function convertToInteractive(key) {\n",
              "        const element = document.querySelector('#df-774b73c7-0f09-4fc9-bd4d-964f482a3f61');\n",
              "        const dataTable =\n",
              "          await google.colab.kernel.invokeFunction('convertToInteractive',\n",
              "                                                    [key], {});\n",
              "        if (!dataTable) return;\n",
              "\n",
              "        const docLinkHtml = 'Like what you see? Visit the ' +\n",
              "          '<a target=\"_blank\" href=https://colab.research.google.com/notebooks/data_table.ipynb>data table notebook</a>'\n",
              "          + ' to learn more about interactive tables.';\n",
              "        element.innerHTML = '';\n",
              "        dataTable['output_type'] = 'display_data';\n",
              "        await google.colab.output.renderOutput(dataTable, element);\n",
              "        const docLink = document.createElement('div');\n",
              "        docLink.innerHTML = docLinkHtml;\n",
              "        element.appendChild(docLink);\n",
              "      }\n",
              "    </script>\n",
              "  </div>\n",
              "\n",
              "\n",
              "<div id=\"df-445bcaad-98a2-422a-9f59-f9a5eb697d54\">\n",
              "  <button class=\"colab-df-quickchart\" onclick=\"quickchart('df-445bcaad-98a2-422a-9f59-f9a5eb697d54')\"\n",
              "            title=\"Suggest charts\"\n",
              "            style=\"display:none;\">\n",
              "\n",
              "<svg xmlns=\"http://www.w3.org/2000/svg\" height=\"24px\"viewBox=\"0 0 24 24\"\n",
              "     width=\"24px\">\n",
              "    <g>\n",
              "        <path d=\"M19 3H5c-1.1 0-2 .9-2 2v14c0 1.1.9 2 2 2h14c1.1 0 2-.9 2-2V5c0-1.1-.9-2-2-2zM9 17H7v-7h2v7zm4 0h-2V7h2v10zm4 0h-2v-4h2v4z\"/>\n",
              "    </g>\n",
              "</svg>\n",
              "  </button>\n",
              "\n",
              "<style>\n",
              "  .colab-df-quickchart {\n",
              "      --bg-color: #E8F0FE;\n",
              "      --fill-color: #1967D2;\n",
              "      --hover-bg-color: #E2EBFA;\n",
              "      --hover-fill-color: #174EA6;\n",
              "      --disabled-fill-color: #AAA;\n",
              "      --disabled-bg-color: #DDD;\n",
              "  }\n",
              "\n",
              "  [theme=dark] .colab-df-quickchart {\n",
              "      --bg-color: #3B4455;\n",
              "      --fill-color: #D2E3FC;\n",
              "      --hover-bg-color: #434B5C;\n",
              "      --hover-fill-color: #FFFFFF;\n",
              "      --disabled-bg-color: #3B4455;\n",
              "      --disabled-fill-color: #666;\n",
              "  }\n",
              "\n",
              "  .colab-df-quickchart {\n",
              "    background-color: var(--bg-color);\n",
              "    border: none;\n",
              "    border-radius: 50%;\n",
              "    cursor: pointer;\n",
              "    display: none;\n",
              "    fill: var(--fill-color);\n",
              "    height: 32px;\n",
              "    padding: 0;\n",
              "    width: 32px;\n",
              "  }\n",
              "\n",
              "  .colab-df-quickchart:hover {\n",
              "    background-color: var(--hover-bg-color);\n",
              "    box-shadow: 0 1px 2px rgba(60, 64, 67, 0.3), 0 1px 3px 1px rgba(60, 64, 67, 0.15);\n",
              "    fill: var(--button-hover-fill-color);\n",
              "  }\n",
              "\n",
              "  .colab-df-quickchart-complete:disabled,\n",
              "  .colab-df-quickchart-complete:disabled:hover {\n",
              "    background-color: var(--disabled-bg-color);\n",
              "    fill: var(--disabled-fill-color);\n",
              "    box-shadow: none;\n",
              "  }\n",
              "\n",
              "  .colab-df-spinner {\n",
              "    border: 2px solid var(--fill-color);\n",
              "    border-color: transparent;\n",
              "    border-bottom-color: var(--fill-color);\n",
              "    animation:\n",
              "      spin 1s steps(1) infinite;\n",
              "  }\n",
              "\n",
              "  @keyframes spin {\n",
              "    0% {\n",
              "      border-color: transparent;\n",
              "      border-bottom-color: var(--fill-color);\n",
              "      border-left-color: var(--fill-color);\n",
              "    }\n",
              "    20% {\n",
              "      border-color: transparent;\n",
              "      border-left-color: var(--fill-color);\n",
              "      border-top-color: var(--fill-color);\n",
              "    }\n",
              "    30% {\n",
              "      border-color: transparent;\n",
              "      border-left-color: var(--fill-color);\n",
              "      border-top-color: var(--fill-color);\n",
              "      border-right-color: var(--fill-color);\n",
              "    }\n",
              "    40% {\n",
              "      border-color: transparent;\n",
              "      border-right-color: var(--fill-color);\n",
              "      border-top-color: var(--fill-color);\n",
              "    }\n",
              "    60% {\n",
              "      border-color: transparent;\n",
              "      border-right-color: var(--fill-color);\n",
              "    }\n",
              "    80% {\n",
              "      border-color: transparent;\n",
              "      border-right-color: var(--fill-color);\n",
              "      border-bottom-color: var(--fill-color);\n",
              "    }\n",
              "    90% {\n",
              "      border-color: transparent;\n",
              "      border-bottom-color: var(--fill-color);\n",
              "    }\n",
              "  }\n",
              "</style>\n",
              "\n",
              "  <script>\n",
              "    async function quickchart(key) {\n",
              "      const quickchartButtonEl =\n",
              "        document.querySelector('#' + key + ' button');\n",
              "      quickchartButtonEl.disabled = true;  // To prevent multiple clicks.\n",
              "      quickchartButtonEl.classList.add('colab-df-spinner');\n",
              "      try {\n",
              "        const charts = await google.colab.kernel.invokeFunction(\n",
              "            'suggestCharts', [key], {});\n",
              "      } catch (error) {\n",
              "        console.error('Error during call to suggestCharts:', error);\n",
              "      }\n",
              "      quickchartButtonEl.classList.remove('colab-df-spinner');\n",
              "      quickchartButtonEl.classList.add('colab-df-quickchart-complete');\n",
              "    }\n",
              "    (() => {\n",
              "      let quickchartButtonEl =\n",
              "        document.querySelector('#df-445bcaad-98a2-422a-9f59-f9a5eb697d54 button');\n",
              "      quickchartButtonEl.style.display =\n",
              "        google.colab.kernel.accessAllowed ? 'block' : 'none';\n",
              "    })();\n",
              "  </script>\n",
              "</div>\n",
              "\n",
              "  <div id=\"id_80672271-74e7-4928-aad9-57188c4a0603\">\n",
              "    <style>\n",
              "      .colab-df-generate {\n",
              "        background-color: #E8F0FE;\n",
              "        border: none;\n",
              "        border-radius: 50%;\n",
              "        cursor: pointer;\n",
              "        display: none;\n",
              "        fill: #1967D2;\n",
              "        height: 32px;\n",
              "        padding: 0 0 0 0;\n",
              "        width: 32px;\n",
              "      }\n",
              "\n",
              "      .colab-df-generate:hover {\n",
              "        background-color: #E2EBFA;\n",
              "        box-shadow: 0px 1px 2px rgba(60, 64, 67, 0.3), 0px 1px 3px 1px rgba(60, 64, 67, 0.15);\n",
              "        fill: #174EA6;\n",
              "      }\n",
              "\n",
              "      [theme=dark] .colab-df-generate {\n",
              "        background-color: #3B4455;\n",
              "        fill: #D2E3FC;\n",
              "      }\n",
              "\n",
              "      [theme=dark] .colab-df-generate:hover {\n",
              "        background-color: #434B5C;\n",
              "        box-shadow: 0px 1px 3px 1px rgba(0, 0, 0, 0.15);\n",
              "        filter: drop-shadow(0px 1px 2px rgba(0, 0, 0, 0.3));\n",
              "        fill: #FFFFFF;\n",
              "      }\n",
              "    </style>\n",
              "    <button class=\"colab-df-generate\" onclick=\"generateWithVariable('df')\"\n",
              "            title=\"Generate code using this dataframe.\"\n",
              "            style=\"display:none;\">\n",
              "\n",
              "  <svg xmlns=\"http://www.w3.org/2000/svg\" height=\"24px\"viewBox=\"0 0 24 24\"\n",
              "       width=\"24px\">\n",
              "    <path d=\"M7,19H8.4L18.45,9,17,7.55,7,17.6ZM5,21V16.75L18.45,3.32a2,2,0,0,1,2.83,0l1.4,1.43a1.91,1.91,0,0,1,.58,1.4,1.91,1.91,0,0,1-.58,1.4L9.25,21ZM18.45,9,17,7.55Zm-12,3A5.31,5.31,0,0,0,4.9,8.1,5.31,5.31,0,0,0,1,6.5,5.31,5.31,0,0,0,4.9,4.9,5.31,5.31,0,0,0,6.5,1,5.31,5.31,0,0,0,8.1,4.9,5.31,5.31,0,0,0,12,6.5,5.46,5.46,0,0,0,6.5,12Z\"/>\n",
              "  </svg>\n",
              "    </button>\n",
              "    <script>\n",
              "      (() => {\n",
              "      const buttonEl =\n",
              "        document.querySelector('#id_80672271-74e7-4928-aad9-57188c4a0603 button.colab-df-generate');\n",
              "      buttonEl.style.display =\n",
              "        google.colab.kernel.accessAllowed ? 'block' : 'none';\n",
              "\n",
              "      buttonEl.onclick = () => {\n",
              "        google.colab.notebook.generateWithVariable('df');\n",
              "      }\n",
              "      })();\n",
              "    </script>\n",
              "  </div>\n",
              "\n",
              "    </div>\n",
              "  </div>\n"
            ],
            "application/vnd.google.colaboratory.intrinsic+json": {
              "type": "dataframe",
              "variable_name": "df",
              "summary": "{\n  \"name\": \"df\",\n  \"rows\": 2225,\n  \"fields\": [\n    {\n      \"column\": \"category\",\n      \"properties\": {\n        \"dtype\": \"category\",\n        \"num_unique_values\": 5,\n        \"samples\": [\n          \"sport\",\n          \"tech\",\n          \"business\"\n        ],\n        \"semantic_type\": \"\",\n        \"description\": \"\"\n      }\n    },\n    {\n      \"column\": \"text\",\n      \"properties\": {\n        \"dtype\": \"string\",\n        \"num_unique_values\": 2126,\n        \"samples\": [\n          \"o connor aims to grab opportunity johnny o connor is determined to make a big impression when he makes his rbs six nations debut for ireland against scotland on saturday.  the wasps flanker replaces denis leamy but o connor knows that the munster man will be pushing hard for a recall for the following game against england.  it s a  horses for courses  selection really   said o connor.  there s a lot of competition here and i can t just drag my heels around if i don t get picked.  it looks a definite head-to-head battle between himself and 23-year-old leamy - three stone heavier than o connor - for the number seven role against the world champions. nonetheless  all o connor is currently concerned about is making an impression while winning his third cap.   missing the italian game was disappointing certainly  but you can t dwell on these things - it s part and parcel of rugby.  denis has been playing really well and deserved his opportunity.  it s a good situation to be in if there are good players around you  pushing for a place in the side.  o connor  who celebrated his 25th birthday on wednesday  was touted by wasps director of rugby warren gatland as a possible 2005 lions test openside as far back as last september. and his reputation as a breakdown scavenger and heavy hitter has seen him come to the forefront of o sullivan s mind for the scottish tussle. o connor added:  it will be interesting to see how situations on the deck is reffed  with the new laws having come in.   obviously the breakdown a big part of what i do on the pitch so i m hoping to hold some influence there against what is a very solid scottish pack.  o connor will be winning his third cap after making his debut in the victory over south africa last november.\",\n          \"santini resigns as spurs manager tottenham manager jacques santini has resigned for  personal reasons .  the former france manager moved to white hart lane this summer but now wants to return to france. santini said:  my time at tottenham has been memorable and it is with deep regret that i take my leave. i wish the club and the supporters all the best.  private issues in my personal life have arisen which caused my decision. i very much hope that the wonderful fans will respect my decision.  he added:  i should like to thank (sporting director) frank arnesen and (chairman) daniel levy for their understanding.  assistant coach martin jol has been put in temporary charge and will take care of team affairs for saturday s premiership match against charlton.  arnesen said the club were sad to see santini go:  we are obviously disappointed that jacques is leaving us. we fully respect his decision.  i can assure you that the club will act swiftly to minimise the impact of jacques  departure.  our priority is to ensure that this season s performance remains unaffected by this move.  i shall make a further statement on monday  clarifying our position. we wish jacques well.\",\n          \"serena becomes world number two serena williams has moved up five places to second in the world rankings after her australian open win.  williams won her first grand slam title since 2003 with victory over lindsay davenport  the world number one. men s champion marat safin remains fourth in the atp rankings while beaten finalist lleyton hewitt replaces andy roddick as world number two. roger federer retains top spot  but safin has overtaken hewitt to become the new leader of the champions race. alicia molik  who lost a three-set thriller against davenport in the quarter-finals  is in the women s top 10 for the first time in her career. her rise means australia have a player in the top 10 of the men s and women s rankings for the first time in 21 years. and britain s elena baltacha  who qualified and then reached the third round  has risen to 120 in the world - a leap of 65 places and her highest ranking yet.\"\n        ],\n        \"semantic_type\": \"\",\n        \"description\": \"\"\n      }\n    },\n    {\n      \"column\": \"cleaned\",\n      \"properties\": {\n        \"dtype\": \"string\",\n        \"num_unique_values\": 2117,\n        \"samples\": [\n          \"speech take search engin scottish firm look attract web surfer search engin read result call speegl look feel normal search engin ad featur abl read result scottish speech technolog firm cec system launch site novemb expert question whether talk search engin real benefit peopl visual impair edinburgh base firm cec marri speech technolog ever popular internet search abil search becom increasingli crucial surfer baffl huge amount inform avail web accord search engin ask jeev around surfer visit search engin first port call net peopl visit speegl select one three voic read result queri summaris news stori sourc bbc reuter still bit robot make mistak never go complet natur sound voic bad said speegl founder gordon renton system ideal peopl blur vision want search someth background someth els say suitabl total blind peopl although royal nation institut blind rnib look technolog ad juli howel digit polici manag rnib express doubt whether speegl similar site ad anyth blind peopl experi web whole lot option like spring web one think care market go said blind peopl specialis screen reader avail job technolog sophist way ad site use technolog dub panavox take web text convert synthesis speech past speech technolog compat broadband huge file download cec say compress technolog mean also work slower dial connect visitor speegl may notic look feel site bear pass resembl better known silent search engin googl googl connect speegl use bright colour simpli make site visibl visual impair said mr renton rip someth googl plan truth say imit sincerest form flatteri said speegl prove popular learn english countri japan china site bombard peopl listen word repetit could use although may end talk like robot said mr renton\",\n          \"monsanto fine briberi us agrochem giant monsanto agre pay fine bribe indonesian offici monsanto admit one employe paid senior offici two year ago bid avoid environment impact studi conduct cotton addit penalti monsanto also agre three year close monitor busi practic american author said accept full respons call improp activ former senior manag monsanto direct indonesian consult firm give bribe high level offici indonesia environ ministri manag told compani disguis invoic bribe consult fee monsanto face stiff opposit activist farmer campaign plan introduc genet modifi cotton indonesia despit bribe offici authoris waiv environment studi requir monsanto also admit pay bribe number high rank offici chemic crop firm said becam awar irregular jakarta base subsidiari launch intern investig inform us depart justic secur exchang commiss sec monsanto face crimin civil charg depart justic sec compani cannot bribe way favour treatment foreign offici said christoph wray assist us attorney gener monsanto agre pay depart justic adopt intern complianc measur co oper continu civil crimin investig also pay sec settl bribe charg relat violat monsanto said accept full respons employe action ad taken remedi action address activ indonesia fulli co oper throughout investig process\",\n          \"us critic laud comedi sideway road trip comedi sideway prais heap two us critic associ ad honour alreadi pick chicago film critic associ cfca name winner five categori includ best film best actor paul giamatti director award went clint eastwood million dollar babi southeastern film critic also award sideway best film year accolad director alexand payn name best director also best screenplay share jim taylor cfca award thoma haden church best support actor prize virginia madsen best support actress award role film sideway alreadi vote best film critic associ new york lo angel nomin golden globe british actress imelda staunton cfca best actress gritti abort drama vera drake ad grow list award perform mike leigh film scrub star zach braff name best new director debut garden state michael moor controversi documentari fahrenheit best documentari long engag best foreign film chicago critic yet name date award ceremoni held\"\n        ],\n        \"semantic_type\": \"\",\n        \"description\": \"\"\n      }\n    }\n  ]\n}"
            }
          },
          "metadata": {},
          "execution_count": 14
        }
      ],
      "source": [
        "# Doing all cleaning process using regex, stemmer, stopwords for all data\n",
        "df['cleaned'] = list(map(lambda x: \" \".join([i for i in re.sub(\"[^a-zA-Z]\", \" \", x).split() if i not in words]),df['text']))\n",
        "df['cleaned'] = df['cleaned'].apply(lambda x: \" \".join([stemmer.stem(i) for i in x.lower().split()]))\n",
        "df"
      ]
    },
    {
      "cell_type": "code",
      "execution_count": null,
      "metadata": {
        "id": "UTol9PtmCFVX"
      },
      "outputs": [],
      "source": [
        "# \" \".join([stemmer.stem(i) for i in without_stop_words_of_a_news.lower().split()])"
      ]
    },
    {
      "cell_type": "code",
      "execution_count": null,
      "metadata": {
        "id": "0JAup9jYdIxf"
      },
      "outputs": [],
      "source": [
        "# list(filter(lambda x: [stemmer.stem(i) for i in re.sub(\"[^a-zA-Z]\", \" \", x).split() if i not in words],df['text']))"
      ]
    },
    {
      "cell_type": "code",
      "execution_count": null,
      "metadata": {
        "id": "IL-p5ILB90nL"
      },
      "outputs": [],
      "source": [
        "# #cleaning dataset\n",
        "# nltk.download('stopwords')\n",
        "# stemmer = PorterStemmer()\n",
        "# words = stopwords.words(\"english\")\n",
        "# words.extend(['a','an','the'])\n",
        "# df['cleaned'] = df['cleaned'].apply(lambda x: \" \".join([stemmer.stem(i) for i in re.sub(\"[^a-zA-Z]\", \" \", x.lower()).split() if i not in words]).lower())\n",
        "# # df['newcleaned'] = [(i for i in list(df['cleaned'])).split() if i not in words ]\n",
        "# df"
      ]
    },
    {
      "cell_type": "code",
      "execution_count": null,
      "metadata": {
        "id": "a768Xycnb50R"
      },
      "outputs": [],
      "source": [
        "df.to_csv('cleaned_news.csv')"
      ]
    },
    {
      "cell_type": "code",
      "execution_count": null,
      "metadata": {
        "id": "-_8SX5hn0lXm"
      },
      "outputs": [],
      "source": [
        "# from google.colab import drive\n",
        "# drive.mount('/content/drive')"
      ]
    },
    {
      "cell_type": "code",
      "execution_count": null,
      "metadata": {
        "id": "76wP0Gl7s-Eb"
      },
      "outputs": [],
      "source": [
        "# df['cleaned'] = df['text'].apply(lambda x: \" \".join([stemmer.stem(i) for i in re.sub(\"[^a-zA-Z]\", \" \", x).split() ]).lower())\n",
        "# df"
      ]
    },
    {
      "cell_type": "code",
      "execution_count": null,
      "metadata": {
        "id": "rpyZb6DBr0yS"
      },
      "outputs": [],
      "source": [
        "# print(words)"
      ]
    },
    {
      "cell_type": "code",
      "execution_count": null,
      "metadata": {
        "id": "9QpxBwUMvFrW"
      },
      "outputs": [],
      "source": [
        "# words = stopwords.words(\"nepali\")\n",
        "# words"
      ]
    },
    {
      "cell_type": "code",
      "execution_count": null,
      "metadata": {
        "id": "e7YQAi-Asdy2"
      },
      "outputs": [],
      "source": [
        "# df['cleaned'] = df['text'].apply(lambda x: \" \".join([stemmer.stem(i) for i in re.sub(\"[^a-zA-Z]\", \" \", x).split() if i not in words]).lower())\n",
        "# df"
      ]
    },
    {
      "cell_type": "code",
      "execution_count": null,
      "metadata": {
        "id": "qunZeGdV_GLj"
      },
      "outputs": [],
      "source": [
        "# Training model\n",
        "from sklearn.linear_model import LogisticRegression\n",
        "log_regression = LogisticRegression()\n",
        "\n",
        "vectorizer = TfidfVectorizer()\n",
        "X = df['cleaned']\n",
        "Y = df['category']\n",
        "\n",
        "X_train, X_test, y_train, y_test = train_test_split(X, Y, test_size=0.15) #Splitting dataset\n",
        "\n",
        "# #Creating Pipeline\n",
        "pipeline = Pipeline([('vect', vectorizer),\n",
        "                     ('chi',  SelectKBest(chi2, k=2000)),\n",
        "                     ('clf', LogisticRegression(random_state=1))])\n",
        "\n",
        "# from sklearn.pipeline import Pipeline\n",
        "# from sklearn.svm import SVC\n",
        "# pipeline = Pipeline([\n",
        "#     ('bow', CountVectorizer(analyzer=text_process)),  # strings to token integer counts\n",
        "#     ('tfidf', TfidfTransformer()),  # integer counts to weighted TF-IDF scores\n",
        "#     ('classifier', SVC()),  # train on TF-IDF vectors w/ SVM\n",
        "# ])\n",
        "\n",
        "\n",
        "# #Training model\n",
        "model = pipeline.fit(X_train, y_train)\n",
        "\n",
        "# #Creating pickle file\n",
        "with open('LogisticRegression.pickle', 'wb') as f:\n",
        "    pickle.dump(model, f)"
      ]
    },
    {
      "cell_type": "code",
      "source": [
        "#to use model\n",
        "import pickle as pk\n",
        "filename = 'LogisticRegression.pickle'\n",
        "model = pk.load(open(filename, 'rb'))"
      ],
      "metadata": {
        "id": "aAdKIpgOApa9"
      },
      "execution_count": null,
      "outputs": []
    },
    {
      "cell_type": "code",
      "execution_count": null,
      "metadata": {
        "colab": {
          "base_uri": "https://localhost:8080/"
        },
        "id": "Mztp5HS_Mv62",
        "outputId": "fea0689f-ea10-4d83-f939-eb9cc423c53e"
      },
      "outputs": [
        {
          "output_type": "stream",
          "name": "stdout",
          "text": [
            "950     uk discrimin roma govern immigr rule racial di...\n",
            "2155    cheri accus attack bush cheri blair accus crit...\n",
            "501     axa sun life cut bonu payment life insur axa s...\n",
            "261     burren award egyptian contract british energi ...\n",
            "332     jarr join fairytal celebr french musician jean...\n",
            "                              ...                        \n",
            "571     tori urg chang top tori deleg gather expect la...\n",
            "1456    french wine get euro top french govern hand st...\n",
            "822     johnni depp act outlaw johnni depp whose lates...\n",
            "1516    falcon rebut charad claim concess bill critic ...\n",
            "122     safeti alert gm recal car world biggest carmak...\n",
            "Name: cleaned, Length: 334, dtype: object 950          politics\n",
            "2155         politics\n",
            "501          business\n",
            "261          business\n",
            "332     entertainment\n",
            "            ...      \n",
            "571          politics\n",
            "1456         business\n",
            "822     entertainment\n",
            "1516         politics\n",
            "122          business\n",
            "Name: category, Length: 334, dtype: object\n"
          ]
        }
      ],
      "source": [
        "print(X_test,y_test)"
      ]
    },
    {
      "cell_type": "code",
      "execution_count": null,
      "metadata": {
        "colab": {
          "base_uri": "https://localhost:8080/"
        },
        "id": "aAZIfQmWIlP1",
        "outputId": "ffbc3a0c-f764-4a88-e101-41b58ece1c0a"
      },
      "outputs": [
        {
          "output_type": "stream",
          "name": "stdout",
          "text": [
            "Test accuracy =  0.9670658682634731\n",
            "Train accuracy =  0.9888947646747752\n",
            "\n",
            "\n"
          ]
        }
      ],
      "source": [
        "#Accuracy\n",
        "from sklearn.metrics import accuracy_score\n",
        "predict_test_news_cat = model.predict(X_test)\n",
        "predict_train_news_cat = model.predict(X_train)\n",
        "print(\"Test accuracy = \",accuracy_score(y_test,predict_test_news_cat))\n",
        "print(\"Train accuracy = \",accuracy_score(y_train,predict_train_news_cat))\n",
        "print('\\n')"
      ]
    },
    {
      "cell_type": "code",
      "execution_count": null,
      "metadata": {
        "colab": {
          "base_uri": "https://localhost:8080/"
        },
        "id": "5S-Fnbr-DT65",
        "outputId": "36adfee9-b497-46c1-fda4-efd3744d269e"
      },
      "outputs": [
        {
          "output_type": "stream",
          "name": "stdout",
          "text": [
            "Enter news = KATHMANDU: Thamel, the bustling heart of Kathmandu's tourism sector, is set to transition into a round-the-clock hub starting April 13.  The Thamel Tourism Development Council has announced the commencement of full-time business operations in Thamel and Durbar Marga areas, coinciding with the Nepali New Year.  Council Chairperson Bhabiswor Sharma affirmed that all necessary arrangements have been finalized to facilitate continuous operation in these areas.  The District Administration Office, Kathmandu, will oversee security and management aspects to ensure a smooth transition.  Assistant Chief District Officer Hari Prasad Sharma assured that security measures have been meticulously planned to enforce the night-time business operations.  Additionally, safety protocols, formulated in consultation with stakeholders, will be strictly implemented.  All tourism-related establishments, including clubs, dance venues, and discos, will remain open, offering visitors and locals alike an extended window to experience Thamel's vibrant atmosphere.  Chairperson Sharma clarified that apart from Bhagawanbahal, night-time business activities will be permitted throughout Thamel, following extensive consultations with stakeholders.  Businesses failing to comply with prescribed standards and regulations will face closure starting April 14, underlining the commitment to maintaining quality and safety standards in the area.\n",
            "Predicted news category =  sport\n"
          ]
        }
      ],
      "source": [
        "# file = open('/content/news.txt','r')\n",
        "# news = file.read()\n",
        "# file.close()\n",
        "\n",
        "news = input(\"Enter news = \")\n",
        "news_data = {'predict_news':[news]}\n",
        "news_data_df = pd.DataFrame(news_data)\n",
        "\n",
        "predict_news_cat = model.predict(news_data_df['predict_news'])\n",
        "print(\"Predicted news category = \",predict_news_cat[0])"
      ]
    },
    {
      "cell_type": "code",
      "execution_count": null,
      "metadata": {
        "colab": {
          "base_uri": "https://localhost:8080/",
          "height": 956
        },
        "id": "y24Ctjrm_rpj",
        "outputId": "2609b3cc-ab18-4607-f62e-b3a66935924a"
      },
      "outputs": [
        {
          "output_type": "stream",
          "name": "stdout",
          "text": [
            "               precision    recall  f1-score   support\n",
            "\n",
            "     business       0.94      1.00      0.97        77\n",
            "entertainment       0.97      0.98      0.97        59\n",
            "     politics       0.98      0.98      0.98        63\n",
            "        sport       0.96      1.00      0.98        71\n",
            "         tech       1.00      0.86      0.92        64\n",
            "\n",
            "     accuracy                           0.97       334\n",
            "    macro avg       0.97      0.97      0.97       334\n",
            " weighted avg       0.97      0.97      0.97       334\n",
            "\n",
            "[[77  0  0  0  0]\n",
            " [ 0 58  1  0  0]\n",
            " [ 0  0 62  1  0]\n",
            " [ 0  0  0 71  0]\n",
            " [ 5  2  0  2 55]]\n"
          ]
        },
        {
          "output_type": "display_data",
          "data": {
            "text/plain": [
              "<Figure size 800x800 with 2 Axes>"
            ],
            "image/png": "[encoded data removed]"
          },
          "metadata": {}
        }
      ],
      "source": [
        "# confusion matrix and classification report(precision, recall, F1-score)\n",
        "ytest = np.array(y_test)\n",
        "print(classification_report(ytest,model.predict(X_test)))\n",
        "print(confusion_matrix(ytest,model.predict(X_test)))\n",
        "\n",
        "\n",
        "import matplotlib.pyplot as plt\n",
        "from sklearn.metrics import ConfusionMatrixDisplay\n",
        "cm = confusion_matrix(ytest,model.predict(X_test))\n",
        "# Change figure size and increase dpi for better resolution\n",
        "# and get reference to axes object\n",
        "fig, ax = plt.subplots(figsize=(8,8), dpi=100)\n",
        "class_names = ['business','entertainment','politics','sport','tech']\n",
        "# initialize using the raw 2D confusion matrix\n",
        "# and output labels (in our case, it's 0 and 1)\n",
        "display = ConfusionMatrixDisplay(cm, display_labels=class_names)\n",
        "\n",
        "# set the plot title using the axes object\n",
        "ax.set(title='Confusion Matrix for Text Classification')\n",
        "\n",
        "# show the plot.\n",
        "# Pass the parameter ax to show customizations (ex. title)\n",
        "display.plot(ax=ax);"
      ]
    }
  ],
  "metadata": {
    "colab": {
      "provenance": []
    },
    "kernelspec": {
      "display_name": "Python 3",
      "name": "python3"
    },
    "language_info": {
      "name": "python"
    }
  },
  "nbformat": 4,
  "nbformat_minor": 0
}